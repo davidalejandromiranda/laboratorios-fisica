{
 "cells": [
  {
   "cell_type": "markdown",
   "metadata": {},
   "source": [
    "<h1 align=\"center\">Circuito RLC serie: resonancia y factor de calidad</h1>\n",
    "<div align=\"right\">David A. Miranda, PhD<br>2020</div>"
   ]
  },
  {
   "cell_type": "markdown",
   "metadata": {},
   "source": [
    "En un circuito RLC serie excitado por una función sinusoidal $v_f(t) = V_f sen(\\omega t)$ circulará una corriente $i(t) = Isen(\\omega t - \\phi')$ que tiene un desfase $\\phi'$ respecto a la señal de la excitación de la fuente y su amplitud $I$ dependerá de los valores de resistencia, R, capacitancia, C, inductancia, L y la frecuencia $\\omega = 2 \\pi f$ de la excitación.\n",
    "\n",
    "Ver videos de descripción: [simulador Multisim](https://youtu.be/XHHRUhCSuXk), [ecuación diferencial](https://youtu.be/8CmR93Yrdsk) y [Jupyter Notebook](https://youtu.be/dJqQ4nuLK2Q)."
   ]
  },
  {
   "cell_type": "code",
   "execution_count": null,
   "metadata": {},
   "outputs": [],
   "source": [
    "import numpy as np \n",
    "import matplotlib.pyplot as plt"
   ]
  },
  {
   "cell_type": "code",
   "execution_count": null,
   "metadata": {},
   "outputs": [],
   "source": [
    "R = 330   # Ohm\n",
    "C = 20e-6 # F\n",
    "L = 1e-3 # H\n",
    "Vf = 10   # V"
   ]
  },
  {
   "cell_type": "markdown",
   "metadata": {},
   "source": [
    "# 1. Ecuación diferencial que describe al circuito RLC serie\n",
    "El circuito RLC está descrito por una ecuación diferencial que se obtiene al aplicar la ley de Kirchhoff para voltajes en la malla formada por el circuito RLC en serie con la fuente.  Entonces, si $v_C$ es el voltaje en el capacitor, $v_R$, en la resistencia y $v_L$, en la inductancia, entonces, se obtiene:\n",
    "\n",
    "$$v_f = v_R + v_C + v_L \\qquad (1)$$\n",
    "\n",
    "Las ecuaciones que describen a los diferentes elementos circuitales (R, L y C), son las siguientes, donde la corriente $i$, al estar conectado en serie los elementos del circuito, es la misma para todos:\n",
    "\n",
    "+ Capacitor: $i = C \\frac{dv_C}{dt}$\n",
    "+ Resistencia: $v_R = Ri$, que para el circuito RLC, $v_R = RC \\frac{dv_C}{dt}$\n",
    "+ Inductor: $v_L = L \\frac{di}{dt}$, que para el circuito RLC, $v_L = LC \\frac{d^2v_C}{dt^2}$\n",
    "\n",
    "Al reemplazar en la ecuación (1) y reordenando términos, se encuentra la ecuación diferencial:\n",
    "\n",
    "$$\\frac{d^2v_C}{dt^2} + \\frac{R}{L}\\frac{dv_C}{dt} + \\frac{1}{LC} v_C = \\frac{1}{LC} v_f \\qquad (2)$$\n"
   ]
  },
  {
   "cell_type": "markdown",
   "metadata": {},
   "source": [
    "# 2. Solución de la ecuación (2) en estado estacionario\n",
    "En este caso, como se tiene una excitación sinusoidal, el estado estacionario se alcanza cuando la corriente y todas las tensiones (voltajes) son sinusoidales, similar a la fuente de excitación, pero con un cierto desfase $\\phi$ y una cierta amplitud.\n",
    "\n",
    "Es conveniente utilizar funciones exponenciales complejas para describir la función sinusoidal, en tal caso:\n",
    "\n",
    "+ Voltaje de la fuente: $\\mathcal{V}_f = V_fe^{j\\omega t}$\n",
    "+ Voltaje en el capacitor: $\\mathcal{V}_C = V_Ce^{j(\\omega t - \\phi)}$\n",
    "+ Corriente: $\\mathcal{I} = Ie^{j(\\omega t - \\phi')} = C \\frac{d\\mathcal{V}_C}{dt} = j\\omega C \\mathcal{V}_C$\n",
    "\n",
    "Al reemplazar el voltaje en el capacitor $\\mathcal{V}_C$ en la ecuación (2) y después de operaciones algebráicas elementales, se obtiene:\n",
    "\n",
    "+ Frecuencia de resonancia: $f_0 = \\frac{1}{\\sqrt{LC}}$.\n",
    "+ Desfase entre el voltaje de la fuente y el voltaje en el capacitor: $\\phi = - atan\\left( \\frac{\\omega RC}{1-LC\\omega^2} \\right)$.\n",
    "+ Desfase entre el voltaje de la fuente y la corriente: $\\phi' = \\phi - \\pi/2$.\n",
    "+ Amplitud del voltaje en el capacitor: $V_C = \\left| \\frac{V_f}{(1 - LC \\omega^2)cos(\\phi) - \\omega RC sen(\\phi)} \\right|$, donde $\\omega = 2\\pi f$.\n",
    "+ Amplitud de la corriente: $I = \\omega C V_C = \\left| \\frac{\\omega C V_f}{(1 - LC \\omega^2)cos(\\phi) - \\omega RC sen(\\phi)} \\right|$\n"
   ]
  },
  {
   "cell_type": "code",
   "execution_count": null,
   "metadata": {},
   "outputs": [],
   "source": [
    "wo =  1 / np.sqrt(L*C)\n",
    "fo = wo / (2*np.pi)\n",
    "w  = 1e-3*wo\n",
    "f  = w  / (2*np.pi)\n",
    "\n",
    "tanφ = - w * C * R / (1 - L * C * w**2)\n",
    "φ = np.arctan( tanφ )   # Desfase entre el voltaje en el capacitor y la fuente, en radianes\n",
    "φ_grados = 180*φ/np.pi  # Desfase entre el voltaje en el capacitor y la fuente, en grados\n",
    "φ_ = φ_grados - 90      # Desfase entre la corriente y el voltaje de la fuente, en grados \n",
    "cosφ = np.cos(φ)\n",
    "sinφ = np.sin(φ)\n",
    "Vc = np.abs(Vf / ( ( 1 - L * C * w**2)*cosφ - w * R * C * sinφ ))\n",
    "I  = w * C * Vc\n",
    "\n",
    "t   = np.linspace(0, 4 * np.pi / w, 1000)\n",
    "v_f = Vf * np.sin(w * t)\n",
    "i   =  I * np.cos(w * t - φ)\n",
    "\n",
    "fig, ax1 = plt.subplots(dpi=120)\n",
    "color = 'tab:blue'\n",
    "ax1.plot(1e3*t, v_f, color=color)\n",
    "ax1.tick_params(axis='y', labelcolor=color)\n",
    "ax1.set_ylabel('$v_f(t)$ [V]', color=color)\n",
    "\n",
    "ax2 = ax1.twinx()\n",
    "color = 'tab:red'\n",
    "ax2.plot(1e3*t, i, color=color)\n",
    "ax2.tick_params(axis='y', labelcolor=color)\n",
    "ax2.set_ylabel('$i(t)$ [mA]', color=color)\n",
    "plt.xlabel('Tiempo [ms]')\n",
    "\n",
    "title = '$f = %0.2g$ Hz, $f_0 = %0.2g$ Hz, $\\phi = %0.3g^o$'\n",
    "title += '\\nDesfase entre corriente y voltaje = $%0.3g^o$'\n",
    "_ = plt.title(title % (f, fo, φ_grados, φ_))\n",
    "a = plt.axis()\n",
    "_ = plt.axis([1e3*min(t), 1e3*max(t), a[2], a[3]])\n",
    "fig.tight_layout()"
   ]
  },
  {
   "cell_type": "markdown",
   "metadata": {},
   "source": [
    "# 3. Frecuencia de resonancia\n",
    "La frecuencia de resonancia $f_0$ está dada por,\n",
    "\n",
    "$$\\omega_0 = 2\\pi f_0 = \\frac{1}{\\sqrt{LC}}$$\n",
    "$$f_0 = \\frac{1}{2\\pi\\sqrt{LC}}$$"
   ]
  },
  {
   "cell_type": "code",
   "execution_count": null,
   "metadata": {
    "tags": []
   },
   "outputs": [],
   "source": [
    "fo = 1 / (2 * np.pi * np.sqrt(L*C))\n",
    "print('fo = %0.2g kHz' % (1e-3*fo))"
   ]
  },
  {
   "cell_type": "markdown",
   "metadata": {},
   "source": [
    "# 4. Amplitud de la corriente $I = I(f)$\n",
    "La amplitud de la corriente está dada por,\n",
    "\n",
    "$$I = \\omega C V_C = \\left| \\frac{\\omega C V_f}{(1 - LC \\omega^2)cos(\\phi) - \\omega RC sen(\\phi)} \\right|$$"
   ]
  },
  {
   "cell_type": "code",
   "execution_count": null,
   "metadata": {},
   "outputs": [],
   "source": [
    "def I(f, R = R, C = C, L = L, Vf = Vf):\n",
    "    \"\"\" I retorna la amplitud de la corriente para un circuito RLC serie. \"\"\"\n",
    "    w = 2 * np.pi * f\n",
    "    tanφ = - w * C * R / (1 - L * C * w**2)\n",
    "    φ = np.arctan( tanφ )\n",
    "    cosφ = np.cos(φ)\n",
    "    sinφ = np.sin(φ)\n",
    "    Vc = np.abs(Vf / ( ( 1 - L * C * w**2)*cosφ - w * R * C * sinφ ))\n",
    "    I  = w * C * Vc\n",
    "    return I"
   ]
  },
  {
   "cell_type": "code",
   "execution_count": null,
   "metadata": {
    "tags": []
   },
   "outputs": [],
   "source": [
    "plt.figure(dpi=120)\n",
    "Q_teo = 2*np.pi*fo*L/R\n",
    "log_dF = np.log10(fo/Q_teo)\n",
    "n_min = np.log10(fo) - 1*log_dF\n",
    "n_max = np.log10(fo) + 1*log_dF\n",
    "f = np.logspace(n_min, n_max, 3000)\n",
    "i = I(f, R=R)\n",
    "Io = 1e3*max(i)\n",
    "plt.semilogx(f, 1e3*i)\n",
    "plt.semilogx([fo, fo], [0, max(1e3*i)], ':r')\n",
    "plt.text(fo, Io, ' $f_0 = %0.2g$ kHz' % (1e-3*fo), color='r')\n",
    "plt.xlabel('Frecuencia [Hz]')\n",
    "plt.ylabel('Corriente [mA]')\n",
    "title  = 'Frecuencia de resonancia, $f_0 = %0.2g$ kHz\\n'\n",
    "title += 'R = %0.1f $\\Omega$, C = %0.2f $\\mu F$, L = %0.2f $\\mu H$'\n",
    "_ = plt.title(title % (1e-3*fo, R, 1e6*C, 1e6*L))\n",
    "_ = plt.axis([min(f), max(f), 0, 1.1e3*max(i)])"
   ]
  },
  {
   "cell_type": "markdown",
   "metadata": {},
   "source": [
    "# 5. Factor de calidad, Q\n",
    "El factor de calidad se define como el cociente entre la frecuencia de resonancia $f_0$ y el ancho del pico de corriente a 3dB.  El ancho del pico a 3dB corresponde con los valores de corriente para los cuales la corriente cae 3dB = $(3)(20log_{10}\\frac{i(f_1)}{I}$, es decir, cuando $i(f_1) \\approx 0.71 I$. Note que hay dos frecuencias para las cuales $i(f) \\approx 0.71 I$, estas frecuencias son $f_1$ y $f_2$.\n",
    "\n",
    "En el caso del circuito RLC el factor de calidad Q está dado por:\n",
    "\n",
    "$$Q = \\frac{f_0}{f_2-f_1} = \\frac{2\\pi f_0 L}{R}$$"
   ]
  },
  {
   "cell_type": "code",
   "execution_count": null,
   "metadata": {},
   "outputs": [],
   "source": [
    "def Q(R=R, L=L, C=C):\n",
    "    \"\"\" Q retorna el factor de calidad de la corriente que circula por circuito RLC serie. \"\"\"\n",
    "    fo = 1/(2*np.pi*np.sqrt(L*C))\n",
    "    return 2*np.pi*fo*L/R"
   ]
  },
  {
   "cell_type": "code",
   "execution_count": null,
   "metadata": {
    "tags": []
   },
   "outputs": [],
   "source": [
    "f = np.logspace(n_min, n_max, 3000)\n",
    "i = 1e3*I(f, R=R)\n",
    "# Factor de calidad calculado por la definición Q = fo / (f2 - f1) #\n",
    "Io = max(i)\n",
    "_3dB = 10**(-3/20)\n",
    "f1 = min(f[i >= _3dB * Io])\n",
    "f2 = max(f[i >= _3dB * Io])\n",
    "I1 = min(i[i >= _3dB * Io])\n",
    "Q_ = fo/(f2-f1)\n",
    "####################################################################\n",
    "plt.figure(dpi=120)\n",
    "plt.semilogx(f, i)\n",
    "plt.semilogx([f1, f1], [0, 1.1*max(i)], ':b')\n",
    "plt.semilogx([fo, fo], [0, 1.1*max(i)], ':r')\n",
    "plt.semilogx([f2, f2], [0, 1.1*max(i)], ':m')\n",
    "plt.semilogx([f1, f2], [I1, I1], '--k', alpha= 0.2)\n",
    "plt.text(f1, 0.1*Io, ' $f_1 = %0.2g$ Hz' % (f1), color='b')\n",
    "plt.text(fo, 0.2*Io, ' $f_0 = %0.2g$ kHz' % (1e-3*fo), color='r')\n",
    "plt.text(f2, 0.3*Io, ' $f_2 = %0.2g$ kHz' % (1e-3*f2), color='m')\n",
    "plt.text(f2,  0.5+I1, r' $Q = \\frac{f_0}{f_2 - f_1}=%0.2g$' % (Q_))\n",
    "plt.xlabel('Frecuencia [Hz]')\n",
    "plt.ylabel('Corriente [mA]')\n",
    "title  = 'Frecuencia de resonancia, $f_0 = %0.2g$ kHz\\n'\n",
    "title += 'R = %0.1f $\\Omega$, C = %0.2f $\\mu F$, L = %0.2f $\\mu H$'\n",
    "title += '\\n$Q_{teórico} = %0.3g$' % Q()\n",
    "_ = plt.title(title % (1e-3*fo, R, 1e6*C, 1e6*L))\n",
    "_ = plt.axis([min(f), max(f), 0, 1.1*max(i)])"
   ]
  },
  {
   "cell_type": "code",
   "execution_count": null,
   "metadata": {
    "tags": []
   },
   "outputs": [],
   "source": [
    "plt.figure(dpi=120)\n",
    "resistencias = [1, 5, 10] # Ohm\n",
    "Q_teo = 2*np.pi*fo*L/min(resistencias)\n",
    "log_dF = np.log10(fo/Q_teo)\n",
    "n_min = np.log10(fo) - 0.5*log_dF\n",
    "n_max = np.log10(fo) + 0.5*log_dF\n",
    "f = np.logspace(n_min, n_max, 3000)\n",
    "I_max = 0\n",
    "for r in resistencias:\n",
    "    i = I(f, R=r)\n",
    "    if max(i) > I_max:\n",
    "        I_max = max(i)\n",
    "    plt.semilogx(f, i, label='R = %0.1f $\\Omega$, Q = %0.2g' % (r, Q(R=r)))\n",
    "plt.xlabel('Frecuencia [Hz]')\n",
    "plt.ylabel('Corriente [A]')\n",
    "plt.title('Frecuencia de resonancia, $f_0 = %0.2g$ kHz' % (1e-3*fo))\n",
    "_ = plt.legend()\n",
    "_ = plt.axis([min(f), max(f), 0, 1.1*I_max])"
   ]
  },
  {
   "cell_type": "markdown",
   "metadata": {},
   "source": [
    "End!"
   ]
  }
 ],
 "metadata": {
  "language_info": {
   "codemirror_mode": {
    "name": "ipython",
    "version": 3
   },
   "file_extension": ".py",
   "mimetype": "text/x-python",
   "name": "python",
   "nbconvert_exporter": "python",
   "pygments_lexer": "ipython3",
   "version": "3.7.3-final"
  },
  "orig_nbformat": 2,
  "kernelspec": {
   "name": "python3",
   "display_name": "Python 3"
  }
 },
 "nbformat": 4,
 "nbformat_minor": 2
}